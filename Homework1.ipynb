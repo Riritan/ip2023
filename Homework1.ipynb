{
 "cells": [
  {
   "cell_type": "code",
   "execution_count": 1,
   "metadata": {},
   "outputs": [
    {
     "ename": "error",
     "evalue": "OpenCV(4.8.0) D:\\a\\opencv-python\\opencv-python\\opencv\\modules\\highgui\\src\\window.cpp:866: error: (-215:Assertion failed) trackbar in function 'cv::getTrackbarPos'\n",
     "output_type": "error",
     "traceback": [
      "\u001b[1;31m---------------------------------------------------------------------------\u001b[0m",
      "\u001b[1;31merror\u001b[0m                                     Traceback (most recent call last)",
      "\u001b[1;32mc:\\Users\\luna2\\Desktop\\homework\\Homework1.ipynb 셀 1\u001b[0m line \u001b[0;36m5\n\u001b[0;32m     <a href='vscode-notebook-cell:/c%3A/Users/luna2/Desktop/homework/Homework1.ipynb#W0sZmlsZQ%3D%3D?line=51'>52</a>\u001b[0m \u001b[39mwhile\u001b[39;00m(\u001b[39m1\u001b[39m):\n\u001b[0;32m     <a href='vscode-notebook-cell:/c%3A/Users/luna2/Desktop/homework/Homework1.ipynb#W0sZmlsZQ%3D%3D?line=52'>53</a>\u001b[0m     cv2\u001b[39m.\u001b[39mimshow(\u001b[39m'\u001b[39m\u001b[39mimage\u001b[39m\u001b[39m'\u001b[39m,clr)\n\u001b[1;32m---> <a href='vscode-notebook-cell:/c%3A/Users/luna2/Desktop/homework/Homework1.ipynb#W0sZmlsZQ%3D%3D?line=53'>54</a>\u001b[0m     Value \u001b[39m=\u001b[39m cv2\u001b[39m.\u001b[39;49mgetTrackbarPos(\u001b[39m'\u001b[39;49m\u001b[39mValue\u001b[39;49m\u001b[39m'\u001b[39;49m,\u001b[39m'\u001b[39;49m\u001b[39mimage\u001b[39;49m\u001b[39m'\u001b[39;49m)\n\u001b[0;32m     <a href='vscode-notebook-cell:/c%3A/Users/luna2/Desktop/homework/Homework1.ipynb#W0sZmlsZQ%3D%3D?line=54'>55</a>\u001b[0m     k \u001b[39m=\u001b[39m cv2\u001b[39m.\u001b[39mwaitKey(\u001b[39m1\u001b[39m) \u001b[39m&\u001b[39m \u001b[39m0xFF\u001b[39m\n\u001b[0;32m     <a href='vscode-notebook-cell:/c%3A/Users/luna2/Desktop/homework/Homework1.ipynb#W0sZmlsZQ%3D%3D?line=55'>56</a>\u001b[0m     img[iy:zy,ix:zx,\u001b[39m0\u001b[39m] \u001b[39m=\u001b[39m Value\n",
      "\u001b[1;31merror\u001b[0m: OpenCV(4.8.0) D:\\a\\opencv-python\\opencv-python\\opencv\\modules\\highgui\\src\\window.cpp:866: error: (-215:Assertion failed) trackbar in function 'cv::getTrackbarPos'\n"
     ]
    },
    {
     "ename": "",
     "evalue": "",
     "output_type": "error",
     "traceback": [
      "\u001b[1;31m현재 셀 또는 이전 셀에서 코드를 실행하는 동안 Kernel이 충돌했습니다. 셀의 코드를 검토하여 오류의 가능한 원인을 식별하세요. 자세한 내용을 보려면 <a href='https://aka.ms/vscodeJupyterKernelCrash'> 여기 </a> 를 클릭하세요. 자세한 내용은 Jupyter <a href='command:jupyter.viewOutput'>로그</a>를 참조하세요."
     ]
    }
   ],
   "source": [
    "import cv2\n",
    "import numpy as np\n",
    "from matplotlib.pyplot import vlines\n",
    "\n",
    "\n",
    "drawing = False # true if mouse is pressed\n",
    "ix,iy = 0,0\n",
    "Value = 0\n",
    "zx,zy=0,0\n",
    "img = cv2.imread('PARIS.jpg')\n",
    "clr =img.copy()\n",
    "\n",
    "\n",
    "\n",
    "\n",
    "def draw_rectangle(event,x,y,flags,param):\n",
    "    global ix,iy,drawing,zx,zy,Value,clr\n",
    "    clr=img.copy()\n",
    "    font =cv2.FONT_HERSHEY_SIMPLEX\n",
    "    cv2.putText(clr,'mouse-'+'('+str(ix)+','+str(iy)+')'+'-'+'('+str(zx)+','+str(zy)+')',(10,30),font,1,(255,255,255),2)\n",
    "    \n",
    "    \n",
    "    b=img[:,:,0]\n",
    "    \n",
    "\n",
    "\n",
    "    \n",
    "\n",
    "    if event == cv2.EVENT_LBUTTONDOWN:\n",
    "        drawing = True\n",
    "        ix,iy = x,y\n",
    "\n",
    "    elif event == cv2.EVENT_MOUSEMOVE:\n",
    "        if drawing == True:\n",
    "            cv2.rectangle(clr,(ix,iy),(x,y),(0,0,255),-1)\n",
    "           \n",
    "    elif event == cv2.EVENT_LBUTTONUP:\n",
    "        drawing = False\n",
    "        cv2.rectangle(clr,(ix,iy),(x,y),(0,0,255),-1)\n",
    "        zx,zy=x,y\n",
    "  \n",
    "def nothing(x):\n",
    "    pass\n",
    "    \n",
    "\n",
    "\n",
    "\n",
    "cv2.namedWindow('image')\n",
    "cv2.createTrackbar('Value', 'image',0,255,nothing)\n",
    "cv2.setMouseCallback('image',draw_rectangle)\n",
    "\n",
    "while(1):\n",
    "    cv2.imshow('image',clr)\n",
    "    Value = cv2.getTrackbarPos('Value','image')\n",
    "    k = cv2.waitKey(1) & 0xFF\n",
    "    img[iy:zy,ix:zx,0] = Value\n",
    "    img[iy:zy,ix:zx,1] = Value\n",
    "    if k == 27:\n",
    "        break\n",
    "\n",
    "\n",
    "    \n",
    "  \n",
    "    \n",
    "    \n",
    "   \n",
    "cv2.destroyAllWindows()\n"
   ]
  },
  {
   "cell_type": "code",
   "execution_count": null,
   "metadata": {},
   "outputs": [],
   "source": []
  }
 ],
 "metadata": {
  "kernelspec": {
   "display_name": "IP2023",
   "language": "python",
   "name": "python3"
  },
  "language_info": {
   "codemirror_mode": {
    "name": "ipython",
    "version": 3
   },
   "file_extension": ".py",
   "mimetype": "text/x-python",
   "name": "python",
   "nbconvert_exporter": "python",
   "pygments_lexer": "ipython3",
   "version": "3.8.18"
  },
  "orig_nbformat": 4
 },
 "nbformat": 4,
 "nbformat_minor": 2
}
