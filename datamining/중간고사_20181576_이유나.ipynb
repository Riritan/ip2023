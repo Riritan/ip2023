{
 "cells": [
  {
   "cell_type": "markdown",
   "id": "2f833db5-cf1d-41cb-8f22-b4d934aa1b67",
   "metadata": {},
   "source": [
    "# 데이터 마이닝 중간고사\n",
    "파일명을 수정하여 학번과 이름을 작성할것.\n",
    "코드영역에 정답을 기입할것"
   ]
  },
  {
   "cell_type": "markdown",
   "id": "f12fca10-44bc-4fe9-9149-7d81aea6c43c",
   "metadata": {},
   "source": [
    "## 1번문제\n",
    "### 변수`학교`을 선언하고 문자열 `Dongseo University`를 할당하시오."
   ]
  },
  {
   "cell_type": "code",
   "execution_count": 11,
   "id": "91306036-c611-4d48-8d7a-fc0406714487",
   "metadata": {},
   "outputs": [],
   "source": [
    "학교 =\"Dongseo University\"\n"
   ]
  },
  {
   "cell_type": "markdown",
   "id": "0e981e13-a669-4f60-a79b-9eeb4980654e",
   "metadata": {},
   "source": [
    "## 2번문제\n",
    "### 변수 `name`에서 y를 인덱싱하는 코드를 작성하시오."
   ]
  },
  {
   "cell_type": "code",
   "execution_count": 12,
   "id": "e65837dc-efd7-4720-9895-7ebc5c7677ab",
   "metadata": {},
   "outputs": [
    {
     "name": "stdout",
     "output_type": "stream",
     "text": [
      "y\n"
     ]
    }
   ],
   "source": [
    "print(학교[17])\n",
    "\n",
    "#변수명 name ->학교"
   ]
  },
  {
   "cell_type": "markdown",
   "id": "171995fe-2902-4650-8786-79faa8060871",
   "metadata": {},
   "source": [
    "## 3번문제\n",
    "### 변수 `name`에서 `University`를 슬라이싱하는 코드를 작성하시오."
   ]
  },
  {
   "cell_type": "code",
   "execution_count": 13,
   "id": "f9bf2104-2588-4b05-a938-edd4d9b717bb",
   "metadata": {},
   "outputs": [
    {
     "name": "stdout",
     "output_type": "stream",
     "text": [
      "University\n"
     ]
    }
   ],
   "source": [
    "print(학교[8:18])"
   ]
  },
  {
   "cell_type": "markdown",
   "id": "5280e21d-74f9-4fc1-9ae7-496fbd8d423b",
   "metadata": {},
   "source": [
    "## 4번문제\n",
    "### 아래의 `리스트`에서 `빅데이터전공`과 `홍길동`을 삭제하는 코드를 작성하시오. 한 번에 여러 데이터를 삭제하는 방법으로 삭제할것."
   ]
  },
  {
   "cell_type": "code",
   "execution_count": 21,
   "id": "35b88816-d295-451d-a7c1-8ac3a982ec1a",
   "metadata": {},
   "outputs": [
    {
     "name": "stdout",
     "output_type": "stream",
     "text": [
      "['동서대학교', '20학번']\n"
     ]
    }
   ],
   "source": [
    "리스트 = [\"동서대학교\",\"빅데이터전공\",\"홍길동\",\"20학번\"]\n",
    "\n",
    "del 리스트 [1:3]\n",
    "\n",
    "print (리스트)\n"
   ]
  },
  {
   "cell_type": "markdown",
   "id": "f20bdc66-37eb-4465-b712-692e451c55ba",
   "metadata": {},
   "source": [
    "## 5번문제\n",
    "### `IndexError: list index out of range` 해당 에러메시지는 어떨때 발생하는것인지 아래의 markdown 영역에 작성하시오."
   ]
  },
  {
   "cell_type": "markdown",
   "id": "45e22f92-351e-449b-a7aa-0c312b61114c",
   "metadata": {},
   "source": [
    "리스트 범위를 벗어나는 인덱스를 사용 했을 때 나타난다.  "
   ]
  },
  {
   "cell_type": "markdown",
   "id": "eb0b2f2f-1a0c-4788-a7d3-4aa8ccf38c24",
   "metadata": {},
   "source": [
    "## 6번문제\n",
    "### 아래의 문제를 만족하는 코드를 작성하시오.\n",
    "리스트에는 아파트 거주 인원의 이름이 저장돼 있습니다.   \n",
    "`| 길동 | 철수 | 영희 | 민수 | 민기 | 아영 |`  \n",
    "\n",
    "----\n",
    "\n",
    "하나의 이름을 입력받아 인접한 두 집을 출력하세요. 예외 처리에 대해 배우지 않았으니 첫 번째 집과 마지막 집을 입력하지 않는 것을 가정합니다. \n",
    "`name = input(\"이름:\")`\n",
    "\n",
    "----\n",
    "\n",
    "```python\n",
    "# 출력 예시\n",
    ">> 이름: 영희\n",
    "주변에는 철수 민수가 살고 있습니다.\n",
    "```"
   ]
  },
  {
   "cell_type": "code",
   "execution_count": null,
   "id": "eba2e8cf-7415-47f7-ba01-f0a59ddd5825",
   "metadata": {},
   "outputs": [],
   "source": [
    "거주자 = [\"길동\", \"철수\", \"영희\", \"민수\", \"민기\", \"아영\"]\n",
    "name = input(\"이름:\")\n",
    "\n",
    "#5번까지 풀었고 6번부터는 풀이. \n",
    "\n",
    "\n"
   ]
  },
  {
   "cell_type": "markdown",
   "id": "63158505-3386-4b10-a0f8-d911c3fadcad",
   "metadata": {},
   "source": [
    "## 7번문제\n",
    "### 아래 작성된 조건이 만족하는 코드를 작성하시오.\n",
    "#### 1. 함수의 이름은 `초대장`으로 만든다.\n",
    "#### 2. 2개의 파라미터를 입력받도록하고 파라미터는 `일시`과 `장소` 순으로 만든다.\n",
    "#### 3. `장소` 파라미터는 기본값(defualt)을 `강남`로 설정한다.\n",
    "#### 4. `일시`과 `장소` 파라미터에 힌트기능을 사용하여 `str`임을 알려준다.\n",
    "#### 5. 함수의 기능은 return은 없고 print문에 fstring 기능을 통하여 아래와 같이 출력되도록 한다. \n",
    "#### 예시) 일시: 2023-10-30 12:00, 장소: 강남\n",
    "#### 6. 아래 작성된 코드가 동작하도록 함수를 선언하시오."
   ]
  },
  {
   "cell_type": "code",
   "execution_count": 4,
   "id": "e5f8be6d-604f-4a72-aa43-20f2f53bd357",
   "metadata": {},
   "outputs": [
    {
     "ename": "SyntaxError",
     "evalue": "invalid syntax (4092595455.py, line 2)",
     "output_type": "error",
     "traceback": [
      "\u001b[1;36m  Cell \u001b[1;32mIn[4], line 2\u001b[1;36m\u001b[0m\n\u001b[1;33m    def 초대장(일시str:,장소str=:\"강남\")\u001b[0m\n\u001b[1;37m                  ^\u001b[0m\n\u001b[1;31mSyntaxError\u001b[0m\u001b[1;31m:\u001b[0m invalid syntax\n"
     ]
    }
   ],
   "source": [
    "##구현영역\n",
    "def 초대장(일시str:,장소str=:\"강남\")\n",
    " print(=f\"일시:{일시},장소:{장소}\") \n",
    "##동작영역\n",
    "초대장(\"2023-10-30 12:00\")\n",
    "초대장(\"2023-10-30 12:00\", \"고터\")"
   ]
  },
  {
   "cell_type": "markdown",
   "id": "f5c72499-db0e-4bff-a7ca-8454271b54a3",
   "metadata": {},
   "source": [
    "## 8번문제\n",
    "### 콤마가 포함된 문자열 숫자를 입력받아 정수로 변환하는 `정수변환`함수를 선언하시오.\n",
    "#### 아래의 작성된 코드가 동작하도록 구현해야함.\n",
    "#### return으로 변환된 정수가 출력되어야함"
   ]
  },
  {
   "cell_type": "code",
   "execution_count": 1,
   "id": "e93530fa-3866-42cf-a1f9-1f22b7033460",
   "metadata": {},
   "outputs": [
    {
     "name": "stdout",
     "output_type": "stream",
     "text": [
      "1000\n",
      "4123000\n"
     ]
    }
   ],
   "source": [
    "##구현영역\n",
    "def 정수변환(문자열숫자):\n",
    "    return int(문자열숫자.replace(\",\",\"\"))\n",
    "\n",
    "##동작영역\n",
    "print(정수변환(\"1,000\"))\n",
    "print(정수변환(\"4,123,000\"))"
   ]
  },
  {
   "cell_type": "markdown",
   "id": "7406ab7d-3aaa-4f30-a7b4-88ec1737769f",
   "metadata": {},
   "source": [
    "## 9번문제\n",
    "### 숫자로 구성된 하나의 리스트를 입력받아, 짝수들을 추출하여 리스트로 반환하는 `짝수찾기`함수를 선언하시오.\n",
    "#### 아래에 작성된 코드가 동작하도록 구현해야함"
   ]
  },
  {
   "cell_type": "code",
   "execution_count": 9,
   "id": "be874a9e-18e8-4802-9058-b8ba3f55f88d",
   "metadata": {},
   "outputs": [
    {
     "name": "stdout",
     "output_type": "stream",
     "text": [
      "[2, 4, 6, 8, 10, 10, 10]\n"
     ]
    }
   ],
   "source": [
    "##구현영역\n",
    "def 짝수찾기(list):\n",
    "    result =[]\n",
    "    for x in list: \n",
    "        if x%2==0:\n",
    "            result.append(x)\n",
    "    return result\n",
    "\n",
    "    \n",
    "#동작영역\n",
    "list = [1,2,4,6,7,8,9,10,10,10,11]\n",
    "짝수리스트 = 짝수찾기(list)\n",
    "print(짝수리스트)"
   ]
  },
  {
   "cell_type": "markdown",
   "id": "ebed23f6-87a3-4f9a-9bf7-a803662cf3d6",
   "metadata": {},
   "source": [
    "## 10번문제\n",
    "### 슬라이싱 기능을 하는 함수를 구현하시오.\n",
    "#### 1.함수이름은 `슬라이싱`\n",
    "#### 2.파라미터는 `자료구조`, `시작`, `끝`, `증감폭`\n",
    "#### 3.초기값은 `시작`, `끝`, `증감폭`이 가짐\n",
    "#### 4.`시작`은 0으로, `끝`은 -1로, `증감폭`은 1로 초기값을 가진다.\n",
    "#### 5.`시작`값과 `끝`값은 자료구조의 영역내의 값이 들어온다고 가정한다.\n",
    "#### 6. 반환(return)되는 값은 자료구조의 시작 인덱스부터 끝 인덱스미만까지 슬라이싱한 값이다.\n",
    "#### 7. 코드영역에 기본 슬라이싱 기능을 사용한다.\n"
   ]
  },
  {
   "cell_type": "code",
   "execution_count": 14,
   "id": "2d8c5f33-3855-4791-a0c3-0e974ceaf604",
   "metadata": {},
   "outputs": [
    {
     "name": "stdout",
     "output_type": "stream",
     "text": [
      "[1]\n",
      "[]\n",
      "[1, 2, 4, 6, 7, 8, 9, 10]\n",
      "[1, 4, 7, 9, 10]\n",
      "Dongseo\n"
     ]
    }
   ],
   "source": [
    "##구현영역\n",
    "def 슬라이싱 (자료구조,시작=0,끝=1,증감폭=1):\n",
    "    \n",
    "\n",
    "    return 자료구조 [시작:끝:증감폭] \n",
    "\n",
    "##동작영역\n",
    "print(슬라이싱(리스트))\n",
    "print(슬라이싱(리스트,3))\n",
    "print(슬라이싱(리스트,0,8))\n",
    "print(슬라이싱(리스트,0,-1,2))\n",
    "print(슬라이싱(학교,0,7))"
   ]
  },
  {
   "cell_type": "code",
   "execution_count": null,
   "id": "028e98c4-f905-464d-b234-d6f7cd98f0bd",
   "metadata": {},
   "outputs": [],
   "source": []
  }
 ],
 "metadata": {
  "kernelspec": {
   "display_name": "Python 3 (ipykernel)",
   "language": "python",
   "name": "python3"
  },
  "language_info": {
   "codemirror_mode": {
    "name": "ipython",
    "version": 3
   },
   "file_extension": ".py",
   "mimetype": "text/x-python",
   "name": "python",
   "nbconvert_exporter": "python",
   "pygments_lexer": "ipython3",
   "version": "3.10.12"
  }
 },
 "nbformat": 4,
 "nbformat_minor": 5
}
