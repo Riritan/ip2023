{
 "cells": [
  {
   "cell_type": "markdown",
   "id": "f6ee7cb8-b81c-4592-b9bb-ac1d22be628d",
   "metadata": {},
   "source": [
    "선형분류 (시험x 알아보면 좋은정도) \n",
    "5장까지가 기말범위 \n",
    "의사결정트리 -확률분포 트리  ===> 분류 (이거 사용해서 발전시킬 수 있을듯 ) "
   ]
  }
 ],
 "metadata": {
  "kernelspec": {
   "display_name": "Python 3 (ipykernel)",
   "language": "python",
   "name": "python3"
  },
  "language_info": {
   "codemirror_mode": {
    "name": "ipython",
    "version": 3
   },
   "file_extension": ".py",
   "mimetype": "text/x-python",
   "name": "python",
   "nbconvert_exporter": "python",
   "pygments_lexer": "ipython3",
   "version": "3.10.12"
  }
 },
 "nbformat": 4,
 "nbformat_minor": 5
}
