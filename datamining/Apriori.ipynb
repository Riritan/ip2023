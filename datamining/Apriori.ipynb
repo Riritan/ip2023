{
 "cells": [
  {
   "cell_type": "code",
   "execution_count": 5,
   "id": "63e90593-047c-4b61-b25a-a931d3f76c20",
   "metadata": {},
   "outputs": [
    {
     "ename": "ImportError",
     "evalue": "cannot import name 'association' from 'mlxtend.frequent_patterns' (C:\\Users\\U209-01\\miniforge3\\lib\\site-packages\\mlxtend\\frequent_patterns\\__init__.py)",
     "output_type": "error",
     "traceback": [
      "\u001b[1;31m---------------------------------------------------------------------------\u001b[0m",
      "\u001b[1;31mImportError\u001b[0m                               Traceback (most recent call last)",
      "Cell \u001b[1;32mIn[5], line 3\u001b[0m\n\u001b[0;32m      1\u001b[0m \u001b[38;5;66;03m#확률에 관련된 알고리즘 \u001b[39;00m\n\u001b[1;32m----> 3\u001b[0m \u001b[38;5;28;01mfrom\u001b[39;00m \u001b[38;5;21;01mmlxtend\u001b[39;00m\u001b[38;5;21;01m.\u001b[39;00m\u001b[38;5;21;01mfrequent_patterns\u001b[39;00m \u001b[38;5;28;01mimport\u001b[39;00m apriori,association,rules\n\u001b[0;32m      4\u001b[0m \u001b[38;5;28;01mfrom\u001b[39;00m \u001b[38;5;21;01mmlxtend\u001b[39;00m\u001b[38;5;21;01m.\u001b[39;00m\u001b[38;5;21;01mpreprocessing\u001b[39;00m \u001b[38;5;28;01mimport\u001b[39;00m TransactionEncoder\n\u001b[0;32m      5\u001b[0m \u001b[38;5;28;01mimport\u001b[39;00m \u001b[38;5;21;01mpandas\u001b[39;00m \u001b[38;5;28;01mas\u001b[39;00m \u001b[38;5;21;01mpd\u001b[39;00m \n",
      "\u001b[1;31mImportError\u001b[0m: cannot import name 'association' from 'mlxtend.frequent_patterns' (C:\\Users\\U209-01\\miniforge3\\lib\\site-packages\\mlxtend\\frequent_patterns\\__init__.py)"
     ]
    }
   ],
   "source": [
    "#확률에 관련된 알고리즘 \n",
    "\n",
    "from mlxtend.frequent_patterns import apriori,association,rules\n",
    "from mlxtend.preprocessing import TransactionEncoder\n",
    "import pandas as pd \n"
   ]
  },
  {
   "cell_type": "code",
   "execution_count": null,
   "id": "6d45aae8-24b0-4d88-b7ed-27ebd806fb8d",
   "metadata": {},
   "outputs": [],
   "source": [
    "tran=[['A','B','C','D','E',],\n",
    "      ['B','C'],\n",
    "      ['A','B','G'],\n",
    "      ['A','F','G']]"
   ]
  },
  {
   "cell_type": "code",
   "execution_count": null,
   "id": "24e731b6-d8c6-4dc5-a96f-ddefba8657db",
   "metadata": {},
   "outputs": [],
   "source": [
    "te=TransactionEncoder()\n",
    "tran_ar=te.fit(tran).tranceform(tran)\n",
    "print(tran_ar)\n",
    "print(te.columns_)"
   ]
  },
  {
   "cell_type": "code",
   "execution_count": null,
   "id": "c10c5af8-0c0c-4e14-9a0a-4fc69442f491",
   "metadata": {},
   "outputs": [],
   "source": [
    "df=pd.dataFrame(tran_ar,columns=te.colums_)\n",
    "print(df)"
   ]
  },
  {
   "cell_type": "code",
   "execution_count": null,
   "id": "15465b55-4d4e-48f6-b84b-05928e36447d",
   "metadata": {},
   "outputs": [],
   "source": [
    "freq=df.sum().to_frame('Frequency')\n",
    "freq_sort=freq.sort_values('frequency',ascending=Fales)\n"
   ]
  },
  {
   "cell_type": "code",
   "execution_count": null,
   "id": "4d14fd5e-2b22-426b-9b88-163f71d22426",
   "metadata": {},
   "outputs": [],
   "source": [
    "freq_sort['Support']=freq_sort['Frequency']/len(trap)"
   ]
  },
  {
   "cell_type": "code",
   "execution_count": null,
   "id": "4e28f313-a22c-4412-adda-da3702ff63c0",
   "metadata": {},
   "outputs": [],
   "source": [
    "freq_item"
   ]
  }
 ],
 "metadata": {
  "kernelspec": {
   "display_name": "Python 3 (ipykernel)",
   "language": "python",
   "name": "python3"
  },
  "language_info": {
   "codemirror_mode": {
    "name": "ipython",
    "version": 3
   },
   "file_extension": ".py",
   "mimetype": "text/x-python",
   "name": "python",
   "nbconvert_exporter": "python",
   "pygments_lexer": "ipython3",
   "version": "3.10.12"
  }
 },
 "nbformat": 4,
 "nbformat_minor": 5
}
